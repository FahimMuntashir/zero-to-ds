{
 "cells": [
  {
   "cell_type": "markdown",
   "id": "a0f81436-dc89-40b7-abaa-f08d21dab49f",
   "metadata": {},
   "source": [
    "# 🚀 Day 1: Introduction to NumPy & Basics\n",
    "✅ Install NumPy (pip install numpy)\n",
    "✅ Import NumPy & Check Version\n",
    "✅ Understanding ndarray (NumPy Array)\n",
    "✅ Creating Arrays: array(), zeros(), ones(), full(), arange(), linspace()\n",
    "✅ Checking Data Types: .dtype\n",
    "✅ Shape and Size: .shape, .size, .ndim\n",
    "✅ Basic Array Indexing & Slicing\n",
    "\n",
    "📝 Practice: Create 1D, 2D, and 3D arrays and perform slicing."
   ]
  },
  {
   "cell_type": "code",
   "execution_count": 37,
   "id": "87266c7d-cc9f-4141-99bd-95d15e86567c",
   "metadata": {},
   "outputs": [
    {
     "data": {
      "text/plain": [
       "'1.26.4'"
      ]
     },
     "execution_count": 37,
     "metadata": {},
     "output_type": "execute_result"
    }
   ],
   "source": [
    "# check version\n",
    "import numpy as np\n",
    "np.__version__\n"
   ]
  },
  {
   "cell_type": "markdown",
   "id": "b1c117dc-c55f-40f1-aa0e-c447e1c4985c",
   "metadata": {},
   "source": []
  },
  {
   "cell_type": "code",
   "execution_count": 48,
   "id": "630417dd-4ea8-4b18-a7e7-1f7d57decc65",
   "metadata": {},
   "outputs": [
    {
     "name": "stdout",
     "output_type": "stream",
     "text": [
      "[1 2 3 4 5]\n",
      "1\n"
     ]
    }
   ],
   "source": [
    "import numpy as np\n",
    "x = [1,2,3,4,5]\n",
    "y = np.array(x)\n",
    "print(y)\n",
    "\n",
    "# dimention of the array \n",
    "print(y.ndim)"
   ]
  },
  {
   "cell_type": "code",
   "execution_count": 50,
   "id": "d8c3f8b5-cfec-43b9-a475-da5ab1cd069c",
   "metadata": {},
   "outputs": [
    {
     "name": "stdin",
     "output_type": "stream",
     "text": [
      "enter value 1:  11\n",
      "enter value 2:  2\n",
      "enter value 3:  3\n",
      "enter value 4:  4\n",
      "enter value 5:  5\n"
     ]
    },
    {
     "name": "stdout",
     "output_type": "stream",
     "text": [
      "['11' '2' '3' '4' '5']\n"
     ]
    }
   ],
   "source": [
    "# create array from user input\n",
    "x = []\n",
    "for i in range(1,6):\n",
    "    user_input = input(f\"enter value {i}: \")\n",
    "    x.append(user_input)\n",
    "\n",
    "print(np.array(x))\n",
    "\n"
   ]
  },
  {
   "cell_type": "code",
   "execution_count": 62,
   "id": "2efdf30d-7edd-464b-9a54-11cae619a7c2",
   "metadata": {},
   "outputs": [
    {
     "name": "stdout",
     "output_type": "stream",
     "text": [
      "[[[1 2 3]\n",
      "  [4 5 6]\n",
      "  [7 8 9]]]\n",
      "3\n",
      "[[[[[[[[[[1 2 3 4 5]]]]]]]]]]\n",
      "10\n"
     ]
    }
   ],
   "source": [
    "# two dimentional array\n",
    "arr  = np.array([[[1,2,3],[4,5,6],[7,8,9]]])\n",
    "print(arr)\n",
    "\n",
    "print(arr.ndim)\n",
    "\n",
    "# automating creating dimention\n",
    "\n",
    "arn = np.array([1,2,3,4,5], ndmin = 10)\n",
    "print(arn)\n",
    "print(arn.ndim)"
   ]
  },
  {
   "cell_type": "code",
   "execution_count": null,
   "id": "dee22ebd-0bc6-4db9-b27a-f2517b17c7be",
   "metadata": {},
   "outputs": [],
   "source": []
  }
 ],
 "metadata": {
  "kernelspec": {
   "display_name": "Python 3 (ipykernel)",
   "language": "python",
   "name": "python3"
  },
  "language_info": {
   "codemirror_mode": {
    "name": "ipython",
    "version": 3
   },
   "file_extension": ".py",
   "mimetype": "text/x-python",
   "name": "python",
   "nbconvert_exporter": "python",
   "pygments_lexer": "ipython3",
   "version": "3.12.7"
  }
 },
 "nbformat": 4,
 "nbformat_minor": 5
}
