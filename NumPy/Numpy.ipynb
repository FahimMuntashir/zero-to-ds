{
 "cells": [
  {
   "cell_type": "markdown",
   "id": "a0f81436-dc89-40b7-abaa-f08d21dab49f",
   "metadata": {},
   "source": [
    "# 🚀 Day 1: Introduction to NumPy & Basics\n",
    "✅ Install NumPy (pip install numpy)\n",
    "✅ Import NumPy & Check Version\n",
    "✅ Understanding ndarray (NumPy Array)\n",
    "✅ Creating Arrays: array(), zeros(), ones(), full(), arange(), linspace()\n",
    "✅ Checking Data Types: .dtype\n",
    "\n",
    "✅ Shape and Size: .shape, .size, .ndim\n",
    "✅ Basic Array Indexing & Slicing\n",
    "\n",
    "📝 Practice: Create 1D, 2D, and 3D arrays and perform slicing."
   ]
  },
  {
   "cell_type": "code",
   "execution_count": 5,
   "id": "87266c7d-cc9f-4141-99bd-95d15e86567c",
   "metadata": {},
   "outputs": [
    {
     "data": {
      "text/plain": [
       "'1.26.4'"
      ]
     },
     "execution_count": 5,
     "metadata": {},
     "output_type": "execute_result"
    }
   ],
   "source": [
    "# check version\n",
    "import numpy as np\n",
    "np.__version__\n"
   ]
  },
  {
   "cell_type": "markdown",
   "id": "b1c117dc-c55f-40f1-aa0e-c447e1c4985c",
   "metadata": {},
   "source": []
  },
  {
   "cell_type": "code",
   "execution_count": 7,
   "id": "630417dd-4ea8-4b18-a7e7-1f7d57decc65",
   "metadata": {},
   "outputs": [
    {
     "name": "stdout",
     "output_type": "stream",
     "text": [
      "[1 2 3 4 5]\n",
      "1\n"
     ]
    }
   ],
   "source": [
    "import numpy as np\n",
    "x = [1,2,3,4,5]\n",
    "y = np.array(x)\n",
    "print(y)\n",
    "\n",
    "# dimention of the array \n",
    "print(y.ndim)"
   ]
  },
  {
   "cell_type": "code",
   "execution_count": 50,
   "id": "d8c3f8b5-cfec-43b9-a475-da5ab1cd069c",
   "metadata": {},
   "outputs": [
    {
     "name": "stdout",
     "output_type": "stream",
     "text": [
      "enter value 1:  11\n",
      "enter value 2:  2\n",
      "enter value 3:  3\n",
      "enter value 4:  4\n",
      "enter value 5:  5\n"
     ]
    },
    {
     "name": "stdout",
     "output_type": "stream",
     "text": [
      "['11' '2' '3' '4' '5']\n"
     ]
    }
   ],
   "source": [
    "# create array from user input\n",
    "x = []\n",
    "for i in range(1,6):\n",
    "    user_input = input(f\"enter value {i}: \")\n",
    "    x.append(user_input)\n",
    "\n",
    "print(np.array(x))\n",
    "\n"
   ]
  },
  {
   "cell_type": "code",
   "execution_count": 62,
   "id": "2efdf30d-7edd-464b-9a54-11cae619a7c2",
   "metadata": {},
   "outputs": [
    {
     "name": "stdout",
     "output_type": "stream",
     "text": [
      "[[[1 2 3]\n",
      "  [4 5 6]\n",
      "  [7 8 9]]]\n",
      "3\n",
      "[[[[[[[[[[1 2 3 4 5]]]]]]]]]]\n",
      "10\n"
     ]
    }
   ],
   "source": [
    "# two dimentional array\n",
    "arr  = np.array([[[1,2,3],[4,5,6],[7,8,9]]])\n",
    "print(arr)\n",
    "\n",
    "print(arr.ndim)\n",
    "\n",
    "# automating creating dimention\n",
    "\n",
    "arn = np.array([1,2,3,4,5], ndmin = 10)\n",
    "print(arn)\n",
    "print(arn.ndim)"
   ]
  },
  {
   "cell_type": "code",
   "execution_count": 78,
   "id": "d8e6d1e6-3b4d-47e0-bc7e-29346dfd3345",
   "metadata": {},
   "outputs": [],
   "source": [
    "# create array using numpy function\n"
   ]
  },
  {
   "cell_type": "code",
   "execution_count": 80,
   "id": "dee22ebd-0bc6-4db9-b27a-f2517b17c7be",
   "metadata": {},
   "outputs": [
    {
     "name": "stdout",
     "output_type": "stream",
     "text": [
      "[0. 0. 0. 0.]\n",
      "\n",
      "[[0. 0. 0.]\n",
      " [0. 0. 0.]\n",
      " [0. 0. 0.]\n",
      " [0. 0. 0.]]\n"
     ]
    }
   ],
   "source": [
    "\n",
    "#zeros arrays\n",
    "\n",
    "arr_zero = np.zeros(4)\n",
    "print(arr_zero)\n",
    "print()\n",
    "arr_zero2 = np.zeros((4,3))\n",
    "print(arr_zero2)"
   ]
  },
  {
   "cell_type": "code",
   "execution_count": 90,
   "id": "87edbe31-e325-4ea8-8a8b-f93ffe1818ee",
   "metadata": {},
   "outputs": [
    {
     "name": "stdout",
     "output_type": "stream",
     "text": [
      "[1. 1. 1. 1.]\n",
      "\n",
      "[[1. 1. 1.]\n",
      " [1. 1. 1.]\n",
      " [1. 1. 1.]\n",
      " [1. 1. 1.]]\n"
     ]
    }
   ],
   "source": [
    "\n",
    "#ones arrays\n",
    "\n",
    "arr_ones = np.ones(4)\n",
    "print(arr_ones)\n",
    "print()\n",
    "arr_ones2 = np.ones((4,3))\n",
    "print(arr_ones2)"
   ]
  },
  {
   "cell_type": "code",
   "execution_count": 92,
   "id": "827b0ec4-85a0-4ddb-8801-a759866d6afb",
   "metadata": {},
   "outputs": [
    {
     "name": "stdout",
     "output_type": "stream",
     "text": [
      "[1. 1. 1. 1.]\n"
     ]
    }
   ],
   "source": [
    "#empty arrays\n",
    "arr_empty=  np.empty(4)\n",
    "print(arr_empty)"
   ]
  },
  {
   "cell_type": "code",
   "execution_count": 104,
   "id": "ba87e204-a2ff-45b8-8bac-0868cebc5497",
   "metadata": {},
   "outputs": [
    {
     "name": "stdout",
     "output_type": "stream",
     "text": [
      "[ 0  1  2  3  4  5  6  7  8  9 10]\n"
     ]
    }
   ],
   "source": [
    "#range arrays\n",
    "arr_range=  np.arange(0,11)\n",
    "print(arr_range)"
   ]
  },
  {
   "cell_type": "code",
   "execution_count": 114,
   "id": "e94c01cf-68a4-41df-ac9a-f21436814328",
   "metadata": {},
   "outputs": [
    {
     "name": "stdout",
     "output_type": "stream",
     "text": [
      "[[1. 0. 0. 0. 0.]\n",
      " [0. 1. 0. 0. 0.]\n",
      " [0. 0. 1. 0. 0.]]\n"
     ]
    }
   ],
   "source": [
    "# array diagonal fills with 1's\n",
    "\n",
    "arr_dia = np.eye(3,5)\n",
    "print(arr_dia)"
   ]
  },
  {
   "cell_type": "code",
   "execution_count": 131,
   "id": "d89c7bf2-24e7-4e03-b1ab-0d3b9bc6ff0a",
   "metadata": {},
   "outputs": [
    {
     "name": "stdout",
     "output_type": "stream",
     "text": [
      "[ 0.  5. 10. 15. 20.]\n"
     ]
    }
   ],
   "source": [
    "# linespace func\n",
    "\n",
    "arr_linspace = np.linspace(0,20, 5)\n",
    "print(arr_linspace)"
   ]
  },
  {
   "cell_type": "code",
   "execution_count": 150,
   "id": "eb4770ed-a498-47b0-bd64-85d6d50b01e4",
   "metadata": {},
   "outputs": [
    {
     "name": "stdout",
     "output_type": "stream",
     "text": [
      "int64\n"
     ]
    }
   ],
   "source": [
    "arr_type = np.array([[1,2,3,4,5]])\n",
    "print(arr_type.dtype)"
   ]
  },
  {
   "cell_type": "code",
   "execution_count": null,
   "id": "df7eedd3-921a-473c-b4cc-d20c191e1ff0",
   "metadata": {},
   "outputs": [],
   "source": []
  },
  {
   "cell_type": "markdown",
   "id": "00ac6e10-5a02-4376-b9cc-7a788d81780a",
   "metadata": {},
   "source": [
    "# 🔥 Day 2: Array Operations & Broadcasting\n",
    "✅ Arrays with Random Numbers\n",
    "✅ Data types in NumPy arrays\n",
    "✅ Arithmetic Operations: +, -, *, /, **\n",
    "✅ Universal Functions (ufuncs): np.add(), np.subtract(), np.multiply(), np.divide(), np.mod(), np.reciprocal()\n",
    "✅ Aggregation Functions: np.sum(), np.mean(), np.min(), np.max(), np.std(), np.sin(), np.cos()\n",
    "\n",
    "✅ Element-wise operations\n",
    "✅ Broadcasting Rules\n",
    "\n",
    "📝 Practice: Try adding a scalar to a matrix and perform element-wise multiplication."
   ]
  },
  {
   "cell_type": "code",
   "execution_count": 76,
   "id": "570d69db-7a02-4f77-86ba-2055ded370c7",
   "metadata": {},
   "outputs": [
    {
     "name": "stdout",
     "output_type": "stream",
     "text": [
      "[0.80813601 0.48930516 0.28278312 0.71022454]\n",
      "\n",
      "[[-0.19520521 -0.62231681 -0.30055305 -0.16247323]\n",
      " [-1.09074681 -0.34330969 -0.25892602  0.40201404]\n",
      " [-1.8709032   1.50476765  0.06455602  0.46512523]]\n",
      "\n",
      "[0.95511008 0.78600689 0.97556485 0.66745471 0.53233635]\n",
      "\n",
      "[2 3 4 6 4 6 7 2 8 7]\n"
     ]
    }
   ],
   "source": [
    "# Arrays with Random Numbers\n",
    "a = np.random.rand(4)\n",
    "print(a)\n",
    "\n",
    "b = np.random.randn(3,4)\n",
    "print()\n",
    "print(b)\n",
    "\n",
    "c = np.random.ranf(5)\n",
    "print()\n",
    "print(c)\n",
    "\n",
    "# randint(min, max, total_value)\n",
    "d = np.random.randint(0,10,10)\n",
    "print()\n",
    "print(d)\n"
   ]
  },
  {
   "cell_type": "code",
   "execution_count": 80,
   "id": "cd14fd34-d635-43dc-9c84-c9e7a48d6f7b",
   "metadata": {},
   "outputs": [
    {
     "name": "stdout",
     "output_type": "stream",
     "text": [
      "int8\n"
     ]
    }
   ],
   "source": [
    "# Data types in NumPy arrays\n",
    "x = np.array([1,2,3,4,5], dtype = np.int8)\n",
    "print(x.dtype)"
   ]
  },
  {
   "cell_type": "code",
   "execution_count": 88,
   "id": "6a584f5e-44ec-4111-951c-94292cb269ef",
   "metadata": {},
   "outputs": [
    {
     "name": "stdout",
     "output_type": "stream",
     "text": [
      "[ 2  5 37  8 10]\n"
     ]
    }
   ],
   "source": [
    "# arithmetic operation\n",
    "\n",
    "a= np.array([1,3,34,4,5])\n",
    "b= np.array([1,2,3,4,5])\n",
    "x= np.add(a,b)\n",
    "print(x)"
   ]
  },
  {
   "cell_type": "code",
   "execution_count": 92,
   "id": "ce1575a3-3c5c-4855-abec-876b30838558",
   "metadata": {},
   "outputs": [
    {
     "name": "stdout",
     "output_type": "stream",
     "text": [
      "[[1 2 3 4 5]\n",
      " [1 2 3 4 5]]\n",
      "[[1 2 3 4 5]\n",
      " [1 2 3 4 5]]\n",
      "\n",
      "[[ 2  4  6  8 10]\n",
      " [ 2  4  6  8 10]]\n"
     ]
    }
   ],
   "source": [
    "a = np.array([[1,2,3,4,5],[1,2,3,4,5]])\n",
    "b = np.array([[1,2,3,4,5],[1,2,3,4,5]])\n",
    "print(a)\n",
    "print(b)\n",
    "print()\n",
    "print(np.add(a,b))\n"
   ]
  },
  {
   "cell_type": "code",
   "execution_count": 138,
   "id": "27b1908e-227e-4992-afca-e55c74cb6201",
   "metadata": {},
   "outputs": [
    {
     "name": "stdout",
     "output_type": "stream",
     "text": [
      "1\n",
      "5\n",
      "position of a :  2\n",
      "\n",
      "[1 3]\n"
     ]
    }
   ],
   "source": [
    "# Aggregation Functions\n",
    "a = np.array([[3,2,1],[3,4,5]])\n",
    "b = np.array([[3,4,5],[3,4,5]])\n",
    "\n",
    "print(np.min(a))\n",
    "print(np.max(b))\n",
    "print(\"position of a : \",np.argmin(a))\n",
    "print()\n",
    "a = np.array([[3,2,1],[3,4,5]])\n",
    "print(np.min(a,  1))\n"
   ]
  },
  {
   "cell_type": "code",
   "execution_count": 11,
   "id": "7741a79c-73eb-4f7f-8d26-9694dcb05b10",
   "metadata": {},
   "outputs": [
    {
     "name": "stdout",
     "output_type": "stream",
     "text": [
      "[[1.73205081 1.41421356 1.        ]\n",
      " [1.73205081 2.         2.23606798]]\n"
     ]
    }
   ],
   "source": [
    "a = np.array([[3,2,1],[3,4,5]])\n",
    "print(np.sqrt(a))\n"
   ]
  },
  {
   "cell_type": "code",
   "execution_count": 142,
   "id": "a23626a1-50b8-4b7c-99a8-dc2ce71bbae5",
   "metadata": {},
   "outputs": [
    {
     "name": "stdout",
     "output_type": "stream",
     "text": [
      "[ 1  3  6 10 15]\n"
     ]
    }
   ],
   "source": [
    "x = np.array([1,2,3,4,5])\n",
    "print(np.cumsum(x))"
   ]
  },
  {
   "cell_type": "code",
   "execution_count": null,
   "id": "355a3755-dff9-47ed-b3da-68988821bc84",
   "metadata": {},
   "outputs": [],
   "source": []
  },
  {
   "cell_type": "markdown",
   "id": "29180caf-08a3-4c5b-a1b8-9854fcf12745",
   "metadata": {},
   "source": [
    "# 🔥 Day 3: Shape, Reshaping & Broadcasting\n",
    "✅ Arrays with shape\n",
    "✅ Convert 1D to MultiD,MultiD to 1D using reshape()\n",
    "✅ Broadcasting In Numpy Arrays\n"
   ]
  },
  {
   "cell_type": "code",
   "execution_count": 23,
   "id": "f03b677d-1062-458d-a546-8ab9f685609a",
   "metadata": {},
   "outputs": [
    {
     "name": "stdout",
     "output_type": "stream",
     "text": [
      "[[1 2 3 4 5]\n",
      " [1 2 3 4 5]]\n",
      "\n",
      "(2, 5)\n"
     ]
    }
   ],
   "source": [
    "# shape\n",
    "\n",
    "var = np.array([[1,2,3,4,5],[1,2,3,4,5]])\n",
    "\n",
    "print(var)\n",
    "print()\n",
    "print(var.shape)"
   ]
  },
  {
   "cell_type": "code",
   "execution_count": 27,
   "id": "f5f31f54-153d-4a60-b994-abceea4f3949",
   "metadata": {},
   "outputs": [
    {
     "name": "stdout",
     "output_type": "stream",
     "text": [
      "[[[[[1 2 3 4 5]]]]]\n",
      "(1, 1, 1, 1, 5)\n"
     ]
    }
   ],
   "source": [
    "var1  = np.array([1,2,3,4,5], ndmin = 5)\n",
    "print(var1)\n",
    "\n",
    "print(var1.shape)"
   ]
  },
  {
   "cell_type": "code",
   "execution_count": 55,
   "id": "ca63c302-3b7d-4f6e-866c-68c0924b7572",
   "metadata": {},
   "outputs": [
    {
     "name": "stdout",
     "output_type": "stream",
     "text": [
      "[1 2 3 4 5 6]\n",
      "1\n",
      "\n",
      "[[1 2]\n",
      " [3 4]\n",
      " [5 6]]\n",
      "2\n"
     ]
    }
   ],
   "source": [
    "# reshape function\n",
    "\n",
    "var2 = np.array([1,2,3,4,5,6])\n",
    "print(var2)\n",
    "print(var2.ndim)\n",
    "print()\n",
    "x = var2.reshape(3,2)\n",
    "print(x)\n",
    "print(x.ndim)\n",
    "\n",
    "\n"
   ]
  },
  {
   "cell_type": "code",
   "execution_count": 72,
   "id": "d7bd2450-e956-4d50-9640-265867506510",
   "metadata": {},
   "outputs": [
    {
     "name": "stdout",
     "output_type": "stream",
     "text": [
      "[1 2 3 4 5 6]\n",
      "\n",
      "[[1 2]\n",
      " [3 4]\n",
      " [5 6]]\n",
      "2\n",
      "[1 2 3 4 5 6]\n",
      "1\n"
     ]
    }
   ],
   "source": [
    "oneD = np.array([1,2,3,4,5,6])\n",
    "print(oneD)\n",
    "x = oneD.reshape(3,2)\n",
    "print()\n",
    "print(x)\n",
    "print(x.ndim)\n",
    "\n",
    "print(oneD.reshape(-1))\n",
    "print(oneD.ndim)\n"
   ]
  },
  {
   "cell_type": "code",
   "execution_count": 75,
   "id": "e484e82d-5cd0-4af4-89bd-8dfd5d5d8602",
   "metadata": {},
   "outputs": [],
   "source": [
    "# # Broadcasting In Numpy Arrays\n",
    "# The term broadcasting describes how NumPy treats arrays with different shapes during arithmetic operations.\n",
    "# condition: \n",
    "# 1. dimention same\n",
    "# 2. Dimension Padding\n",
    "# 3. Shape Compatibility: Two dimensions are compatible if:\n",
    "# They are equal, or\n",
    "# One of them is 1.\n",
    "\n",
    "\n"
   ]
  },
  {
   "cell_type": "code",
   "execution_count": 79,
   "id": "eb3ad89c-cba1-4857-981c-3e24f682bc4f",
   "metadata": {},
   "outputs": [
    {
     "name": "stdout",
     "output_type": "stream",
     "text": [
      "[[2 3 4]\n",
      " [3 4 5]\n",
      " [4 5 6]\n",
      " [6 7 8]]\n"
     ]
    }
   ],
   "source": [
    "\n",
    "array1 = np.array([1, 2, 3])\n",
    "array2 = np.array([[1], [2], [3],[5]])\n",
    "sum = array1 + array2\n",
    "\n",
    "print(sum)"
   ]
  },
  {
   "cell_type": "code",
   "execution_count": null,
   "id": "a11f14d4-0258-4149-8196-ab7826346503",
   "metadata": {},
   "outputs": [],
   "source": []
  }
 ],
 "metadata": {
  "kernelspec": {
   "display_name": "Python 3",
   "language": "python",
   "name": "python3"
  },
  "language_info": {
   "codemirror_mode": {
    "name": "ipython",
    "version": 3
   },
   "file_extension": ".py",
   "mimetype": "text/x-python",
   "name": "python",
   "nbconvert_exporter": "python",
   "pygments_lexer": "ipython3",
   "version": "3.10.12"
  }
 },
 "nbformat": 4,
 "nbformat_minor": 5
}
