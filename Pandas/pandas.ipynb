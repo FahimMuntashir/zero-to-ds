{
 "cells": [
  {
   "cell_type": "markdown",
   "id": "5533f90b-98a2-449a-a4fa-8a2bd9f7f907",
   "metadata": {},
   "source": [
    "Roadmap that I'm following: https://medium.com/@ayush-thakur02/a-mini-roadmap-to-learn-pandas-library-in-a-week-417741ef3564"
   ]
  },
  {
   "cell_type": "markdown",
   "id": "e4903fb9-11f9-4966-ace3-5b3901f39bea",
   "metadata": {},
   "source": [
    "# Day 1: Introduction to Pandas"
   ]
  },
  {
   "cell_type": "code",
   "execution_count": null,
   "id": "9bdeba89-d609-4f1e-a9cb-5eaebf10d083",
   "metadata": {},
   "outputs": [],
   "source": []
  },
  {
   "cell_type": "markdown",
   "id": "c1ec7182-e375-4a30-a4f7-cdd77ed364f3",
   "metadata": {},
   "source": [
    "# Day 2: Reading and Writing Data"
   ]
  },
  {
   "cell_type": "markdown",
   "id": "71c44a95-6759-4811-8af1-e2423d89d939",
   "metadata": {},
   "source": [
    "# Day 3: Analysing Data\n"
   ]
  },
  {
   "cell_type": "markdown",
   "id": "37a058f3-d400-4856-a8b0-d5edef1b7729",
   "metadata": {},
   "source": [
    "# Day 4: Manipulating Data\n"
   ]
  },
  {
   "cell_type": "markdown",
   "id": "b49d5696-dce8-49da-a489-2cf6e03678d2",
   "metadata": {},
   "source": [
    "# Day 5: Working with Time Series"
   ]
  }
 ],
 "metadata": {
  "kernelspec": {
   "display_name": "Python 3 (ipykernel)",
   "language": "python",
   "name": "python3"
  },
  "language_info": {
   "codemirror_mode": {
    "name": "ipython",
    "version": 3
   },
   "file_extension": ".py",
   "mimetype": "text/x-python",
   "name": "python",
   "nbconvert_exporter": "python",
   "pygments_lexer": "ipython3",
   "version": "3.12.7"
  }
 },
 "nbformat": 4,
 "nbformat_minor": 5
}
