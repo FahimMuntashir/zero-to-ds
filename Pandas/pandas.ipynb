{
 "cells": [
  {
   "cell_type": "markdown",
   "id": "5533f90b-98a2-449a-a4fa-8a2bd9f7f907",
   "metadata": {},
   "source": [
    "Roadmap that I'm following: https://medium.com/@ayush-thakur02/a-mini-roadmap-to-learn-pandas-library-in-a-week-417741ef3564"
   ]
  },
  {
   "cell_type": "markdown",
   "id": "e4903fb9-11f9-4966-ace3-5b3901f39bea",
   "metadata": {},
   "source": [
    "# Day 1: Introduction to Pandas"
   ]
  },
  {
   "cell_type": "code",
   "execution_count": 20,
   "id": "14c0a36c-68f0-49a1-b4a9-62a196ea4993",
   "metadata": {},
   "outputs": [],
   "source": [
    "# pandas - open-source data analysis and manipulation library\n",
    " # name “Pandas” is derived from \"Panel Data\"\n",
    "\n",
    "# two primary data structures:\n",
    "# Series: A one-dimensional labeled array.\n",
    "# DataFrame: A two-dimensional labeled table (like an Excel spreadsheet or SQL table).\n",
    "\n"
   ]
  },
  {
   "cell_type": "code",
   "execution_count": 1,
   "id": "d36fc017-2e99-4acc-92d5-e70a63cf45a7",
   "metadata": {},
   "outputs": [
    {
     "name": "stdout",
     "output_type": "stream",
     "text": [
      "    Continent\n",
      "0      Africa\n",
      "1  Antarctica\n",
      "2        Asia\n",
      "3   Australia\n",
      "4      Europe\n",
      "       Continent\n",
      "count          7\n",
      "unique         7\n",
      "top       Africa\n",
      "freq           1\n"
     ]
    }
   ],
   "source": [
    "import pandas as pd\n",
    "\n",
    "# load csv file\n",
    "df = pd.read_csv(\"continent.csv\")\n",
    "\n",
    "# view first few rows \n",
    "print(df.head())\n",
    "\n",
    "# summary statistics\n",
    "print(df.describe())\n",
    "\n"
   ]
  },
  {
   "cell_type": "code",
   "execution_count": 48,
   "id": "7db1b8e3-ccb7-490d-8d4f-2527d9781ca0",
   "metadata": {},
   "outputs": [
    {
     "name": "stdout",
     "output_type": "stream",
     "text": [
      "0    10\n",
      "1    20\n",
      "2    30\n",
      "3    40\n",
      "dtype: int64\n",
      "a    100\n",
      "b    200\n",
      "c    300\n",
      "dtype: int64\n"
     ]
    }
   ],
   "source": [
    "# Creating a Series\n",
    "# From a list:\n",
    "data = [10, 20, 30, 40]\n",
    "series = pd.Series(data)\n",
    "print(series)\n",
    "\n",
    "\n",
    "# From a dictionary:\n",
    "data = {'a': 100, 'b': 200, 'c': 300}\n",
    "series = pd.Series(data)\n",
    "print(series)\n"
   ]
  },
  {
   "cell_type": "code",
   "execution_count": 77,
   "id": "2bb56a00-9e15-4b9f-94c1-cd83cbbc4af1",
   "metadata": {},
   "outputs": [
    {
     "name": "stdout",
     "output_type": "stream",
     "text": [
      "      Name  Age\n",
      "0    Alice   25\n",
      "1      Bob   30\n",
      "2  Charlie   35\n",
      "    Name  Age\n",
      "0  Alice   25\n",
      "1    Bob   30\n"
     ]
    }
   ],
   "source": [
    "# Creating a DataFrame\n",
    "# From a dictionary of lists:\n",
    "data = {\n",
    "    'Name': ['Alice', 'Bob', 'Charlie'],\n",
    "    'Age': [25, 30, 35]\n",
    "}\n",
    "df = pd.DataFrame(data)\n",
    "print(df)\n",
    "\n",
    " # From a list of dictionaries:\n",
    "data = [\n",
    "    {'Name': 'Alice', 'Age': 25},\n",
    "    {'Name': 'Bob', 'Age': 30}\n",
    "]\n",
    "df = pd.DataFrame(data)\n",
    "print(df)\n",
    "\n",
    "# From a CSV file:\n",
    "df = pd.read_csv('continent.csv')\n"
   ]
  },
  {
   "cell_type": "code",
   "execution_count": 64,
   "id": "05a214bf-7caa-4f4b-aa05-3a8bb66b2f6f",
   "metadata": {},
   "outputs": [
    {
     "name": "stdout",
     "output_type": "stream",
     "text": [
      "100\n",
      "Continent    Africa\n",
      "Name: 0, dtype: object\n",
      "Continent    Antarctica\n",
      "Name: 1, dtype: object\n"
     ]
    }
   ],
   "source": [
    "# Accessing in Series\n",
    "print(series['a'])\n",
    "print(df.loc[0])           # By index label\n",
    "print(df.iloc[1])          # By index position\n"
   ]
  },
  {
   "cell_type": "code",
   "execution_count": 89,
   "id": "d39eaa09-82fc-4ed5-9482-0ea996ed9e26",
   "metadata": {},
   "outputs": [
    {
     "name": "stdout",
     "output_type": "stream",
     "text": [
      "            Continent      Africa\n",
      "0              Africa       india\n",
      "1          Antarctica       india\n",
      "2                Asia       india\n",
      "3           Australia       india\n",
      "4              Europe       india\n",
      "5       North America       india\n",
      "6       South America       india\n",
      "Africa     Bangladesh  Bangladesh\n"
     ]
    }
   ],
   "source": [
    "# Modifying DataFrame\n",
    "# Change value in specific cell\n",
    "df.loc['Africa'] = 'Bangladesh'\n",
    "\n",
    "print(df)\n"
   ]
  },
  {
   "cell_type": "markdown",
   "id": "c1ec7182-e375-4a30-a4f7-cdd77ed364f3",
   "metadata": {},
   "source": [
    "# Day 2: Reading and Writing Data"
   ]
  },
  {
   "cell_type": "code",
   "execution_count": 55,
   "id": "2f24dfd4-0d53-4da1-8059-d76f820ed2c9",
   "metadata": {},
   "outputs": [
    {
     "name": "stdout",
     "output_type": "stream",
     "text": [
      "   Rank         Country  ...  UrbanPop% WorldShare\n",
      "0    36     Afghanistan  ...       26 %     0.53 %\n",
      "1   138         Albania  ...       67 %     0.04 %\n",
      "2    34         Algeria  ...       75 %     0.57 %\n",
      "3   212  American Samoa  ...       N.A.     0.00 %\n",
      "4   202         Andorra  ...       85 %     0.00 %\n",
      "\n",
      "[5 rows x 12 columns]\n",
      "             Rank  Population2023  ...   Fert.Rate   MedianAge\n",
      "count  234.000000    2.340000e+02  ...  233.000000  233.000000\n",
      "mean   117.500000    3.437565e+07  ...    2.414163   31.309013\n",
      "std     67.694165    1.373861e+08  ...    1.155913    9.628386\n",
      "min      1.000000    5.180000e+02  ...    0.800000   15.000000\n",
      "25%     59.250000    4.696482e+05  ...    1.600000   22.000000\n",
      "50%    117.500000    5.643895e+06  ...    2.000000   32.000000\n",
      "75%    175.750000    2.324537e+07  ...    3.000000   40.000000\n",
      "max    234.000000    1.428628e+09  ...    6.700000   54.000000\n",
      "\n",
      "[8 rows x 8 columns]\n"
     ]
    }
   ],
   "source": [
    "# read and write CSV files using Pandas\n",
    "df = pd.read_csv(\"WorldPopulation2023.csv\")\n",
    "pd.set_option('display.max_columns',5)\n",
    "print(df.head())\n",
    "\n",
    "print(df.describe())"
   ]
  },
  {
   "cell_type": "code",
   "execution_count": 101,
   "id": "de51eb5f-f438-474f-829b-eeb8d4906c3c",
   "metadata": {},
   "outputs": [
    {
     "name": "stdout",
     "output_type": "stream",
     "text": [
      "    Rank                 Country  ...  UrbanPop% WorldShare\n",
      "14   177                 Bahamas  ...       85 %     0.01 %\n",
      "15   154                 Bahrain  ...       N.A.     0.02 %\n",
      "16     8              Bangladesh  ...       41 %     2.15 %\n",
      "17   187                Barbados  ...       32 %     0.00 %\n",
      "18    97                 Belarus  ...       80 %     0.12 %\n",
      "19    82                 Belgium  ...       99 %     0.15 %\n",
      "20   178                  Belize  ...       48 %     0.01 %\n",
      "21    77                   Benin  ...       48 %     0.17 %\n",
      "22   205                 Bermuda  ...       94 %     0.00 %\n",
      "23   165                  Bhutan  ...       49 %     0.01 %\n",
      "24    80                 Bolivia  ...       69 %     0.15 %\n",
      "25   137  Bosnia and Herzegovina  ...       54 %     0.04 %\n",
      "26   144                Botswana  ...       69 %     0.03 %\n",
      "27     7                  Brazil  ...       88 %     2.69 %\n",
      "28   219  British Virgin Islands  ...       53 %     0.00 %\n",
      "29   176                 Brunei   ...       80 %     0.01 %\n",
      "30   110                Bulgaria  ...       78 %     0.08 %\n",
      "31    59            Burkina Faso  ...       32 %     0.29 %\n",
      "32    78                 Burundi  ...       15 %     0.16 %\n",
      "\n",
      "[19 rows x 12 columns]\n"
     ]
    }
   ],
   "source": [
    "filt = (df['Country'].str.startswith('B'))\n",
    "# print(filt)\n",
    "filtered_df = df.loc[filt]\n",
    "print(filtered_df)"
   ]
  },
  {
   "cell_type": "code",
   "execution_count": 113,
   "id": "39358894-e8cd-49a3-9407-8a6e3f489c8b",
   "metadata": {},
   "outputs": [],
   "source": [
    "# export this dataframe into new csv file\n",
    "filtered_df.to_csv('data/filtered_world_population_2023.csv')\n",
    "filtered_df.to_csv('data/filtered_world_population_2023.tsv', sep='\\t')\n"
   ]
  },
  {
   "cell_type": "code",
   "execution_count": null,
   "id": "e528179e-3f6e-4458-8177-374da8600ea9",
   "metadata": {},
   "outputs": [],
   "source": [
    "# read and write JSON files using Pandas\n"
   ]
  },
  {
   "cell_type": "code",
   "execution_count": 125,
   "id": "9e88757a-27fd-476f-b8a6-04bd6b2bc058",
   "metadata": {},
   "outputs": [
    {
     "name": "stdout",
     "output_type": "stream",
     "text": [
      "   Unnamed: 0 First Name  ...        Date    Id\n",
      "0           1      Dulce  ...  15/10/2017  1562\n",
      "1           2       Mara  ...  16/08/2016  1582\n",
      "2           3     Philip  ...  21/05/2015  2587\n",
      "3           4   Kathleen  ...  15/10/2017  3549\n",
      "4           5    Nereida  ...  16/08/2016  2468\n",
      "\n",
      "[5 rows x 8 columns]\n"
     ]
    }
   ],
   "source": [
    "# read and write Excel files using Pandas\n",
    "df = pd.read_excel('data/file_example_XLSX_1000.xlsx')\n",
    "print(df.head())\n",
    "\n",
    "filtered_df.to_excel('data/mod.xlsx')"
   ]
  },
  {
   "cell_type": "code",
   "execution_count": null,
   "id": "9bbe9fed-14a6-4e57-b95a-b2092b89a823",
   "metadata": {},
   "outputs": [],
   "source": [
    "# read and write SQL databases using Pandas"
   ]
  },
  {
   "cell_type": "code",
   "execution_count": null,
   "id": "0b1d8f0a-3dee-4af5-8f34-7ee83abe84e6",
   "metadata": {},
   "outputs": [],
   "source": [
    " # handle missing values, duplicates, and data types using Pandas\n"
   ]
  },
  {
   "cell_type": "markdown",
   "id": "71c44a95-6759-4811-8af1-e2423d89d939",
   "metadata": {},
   "source": [
    "# Day 3: Analysing Data\n"
   ]
  },
  {
   "cell_type": "markdown",
   "id": "37a058f3-d400-4856-a8b0-d5edef1b7729",
   "metadata": {},
   "source": [
    "# Day 4: Manipulating Data\n"
   ]
  },
  {
   "cell_type": "markdown",
   "id": "b49d5696-dce8-49da-a489-2cf6e03678d2",
   "metadata": {},
   "source": [
    "# Day 5: Working with Time Series"
   ]
  },
  {
   "cell_type": "markdown",
   "id": "0a390bfe-0863-402d-bd0d-44577a2eb6e3",
   "metadata": {},
   "source": [
    "# Day 6: Working with Text Data\n"
   ]
  },
  {
   "cell_type": "markdown",
   "id": "48e0b08d-94e0-431e-967b-945b11a1e612",
   "metadata": {},
   "source": [
    "# Day 7: Working with Categorical Data\n"
   ]
  },
  {
   "cell_type": "code",
   "execution_count": null,
   "id": "fcd1c85a-6db2-4f72-aad7-2e34a4be692a",
   "metadata": {},
   "outputs": [],
   "source": []
  }
 ],
 "metadata": {
  "kernelspec": {
   "display_name": "Python 3 (ipykernel)",
   "language": "python",
   "name": "python3"
  },
  "language_info": {
   "codemirror_mode": {
    "name": "ipython",
    "version": 3
   },
   "file_extension": ".py",
   "mimetype": "text/x-python",
   "name": "python",
   "nbconvert_exporter": "python",
   "pygments_lexer": "ipython3",
   "version": "3.12.7"
  }
 },
 "nbformat": 4,
 "nbformat_minor": 5
}
