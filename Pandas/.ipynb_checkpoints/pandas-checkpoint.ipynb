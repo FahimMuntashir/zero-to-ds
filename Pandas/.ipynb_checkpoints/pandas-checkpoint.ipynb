{
 "cells": [
  {
   "cell_type": "markdown",
   "id": "5533f90b-98a2-449a-a4fa-8a2bd9f7f907",
   "metadata": {},
   "source": [
    "Roadmap that I'm following: https://medium.com/@ayush-thakur02/a-mini-roadmap-to-learn-pandas-library-in-a-week-417741ef3564"
   ]
  },
  {
   "cell_type": "markdown",
   "id": "e4903fb9-11f9-4966-ace3-5b3901f39bea",
   "metadata": {},
   "source": [
    "# Day 1: Introduction to Pandas"
   ]
  },
  {
   "cell_type": "code",
   "execution_count": 20,
   "id": "14c0a36c-68f0-49a1-b4a9-62a196ea4993",
   "metadata": {},
   "outputs": [],
   "source": [
    "# pandas - open-source data analysis and manipulation libraryi\n",
    " # name “Pandas” is derived from \"Panel Data\"\n",
    "\n",
    "# two primary data structures:\n",
    "# Series: A one-dimensional labeled array.\n",
    "# DataFrame: A two-dimensional labeled table (like an Excel spreadsheet or SQL table).\n",
    "\n"
   ]
  },
  {
   "cell_type": "code",
   "execution_count": 79,
   "id": "d36fc017-2e99-4acc-92d5-e70a63cf45a7",
   "metadata": {},
   "outputs": [
    {
     "name": "stdout",
     "output_type": "stream",
     "text": [
      "    Continent\n",
      "0      Africa\n",
      "1  Antarctica\n",
      "2        Asia\n",
      "3   Australia\n",
      "4      Europe\n",
      "       Continent\n",
      "count          7\n",
      "unique         7\n",
      "top       Africa\n",
      "freq           1\n"
     ]
    }
   ],
   "source": [
    "import pandas as pd\n",
    "\n",
    "# load csv file\n",
    "df = pd.read_csv(\"continent.csv\")\n",
    "\n",
    "# view first few rows \n",
    "print(df.head())\n",
    "\n",
    "# summary statistics\n",
    "print(df.describe())\n",
    "\n"
   ]
  },
  {
   "cell_type": "code",
   "execution_count": 48,
   "id": "7db1b8e3-ccb7-490d-8d4f-2527d9781ca0",
   "metadata": {},
   "outputs": [
    {
     "name": "stdout",
     "output_type": "stream",
     "text": [
      "0    10\n",
      "1    20\n",
      "2    30\n",
      "3    40\n",
      "dtype: int64\n",
      "a    100\n",
      "b    200\n",
      "c    300\n",
      "dtype: int64\n"
     ]
    }
   ],
   "source": [
    "# Creating a Series\n",
    "# From a list:\n",
    "data = [10, 20, 30, 40]\n",
    "series = pd.Series(data)\n",
    "print(series)\n",
    "\n",
    "\n",
    "# From a dictionary:\n",
    "data = {'a': 100, 'b': 200, 'c': 300}\n",
    "series = pd.Series(data)\n",
    "print(series)\n"
   ]
  },
  {
   "cell_type": "code",
   "execution_count": 77,
   "id": "2bb56a00-9e15-4b9f-94c1-cd83cbbc4af1",
   "metadata": {},
   "outputs": [
    {
     "name": "stdout",
     "output_type": "stream",
     "text": [
      "      Name  Age\n",
      "0    Alice   25\n",
      "1      Bob   30\n",
      "2  Charlie   35\n",
      "    Name  Age\n",
      "0  Alice   25\n",
      "1    Bob   30\n"
     ]
    }
   ],
   "source": [
    "# Creating a DataFrame\n",
    "# From a dictionary of lists:\n",
    "data = {\n",
    "    'Name': ['Alice', 'Bob', 'Charlie'],\n",
    "    'Age': [25, 30, 35]\n",
    "}\n",
    "df = pd.DataFrame(data)\n",
    "print(df)\n",
    "\n",
    " # From a list of dictionaries:\n",
    "data = [\n",
    "    {'Name': 'Alice', 'Age': 25},\n",
    "    {'Name': 'Bob', 'Age': 30}\n",
    "]\n",
    "df = pd.DataFrame(data)\n",
    "print(df)\n",
    "\n",
    "# From a CSV file:\n",
    "df = pd.read_csv('continent.csv')\n"
   ]
  },
  {
   "cell_type": "code",
   "execution_count": 64,
   "id": "05a214bf-7caa-4f4b-aa05-3a8bb66b2f6f",
   "metadata": {},
   "outputs": [
    {
     "name": "stdout",
     "output_type": "stream",
     "text": [
      "100\n",
      "Continent    Africa\n",
      "Name: 0, dtype: object\n",
      "Continent    Antarctica\n",
      "Name: 1, dtype: object\n"
     ]
    }
   ],
   "source": [
    "# Accessing in Series\n",
    "print(series['a'])\n",
    "print(df.loc[0])           # By index label\n",
    "print(df.iloc[1])          # By index position\n"
   ]
  },
  {
   "cell_type": "code",
   "execution_count": 89,
   "id": "d39eaa09-82fc-4ed5-9482-0ea996ed9e26",
   "metadata": {},
   "outputs": [
    {
     "name": "stdout",
     "output_type": "stream",
     "text": [
      "            Continent      Africa\n",
      "0              Africa       india\n",
      "1          Antarctica       india\n",
      "2                Asia       india\n",
      "3           Australia       india\n",
      "4              Europe       india\n",
      "5       North America       india\n",
      "6       South America       india\n",
      "Africa     Bangladesh  Bangladesh\n"
     ]
    }
   ],
   "source": [
    "# Modifying DataFrame\n",
    "# Change value in specific cell\n",
    "df.loc['Africa'] = 'Bangladesh'\n",
    "\n",
    "print(df)\n"
   ]
  },
  {
   "cell_type": "markdown",
   "id": "c1ec7182-e375-4a30-a4f7-cdd77ed364f3",
   "metadata": {
    "jp-MarkdownHeadingCollapsed": true
   },
   "source": [
    "# Day 2: Reading and Writing Data"
   ]
  },
  {
   "cell_type": "markdown",
   "id": "71c44a95-6759-4811-8af1-e2423d89d939",
   "metadata": {},
   "source": [
    "# Day 3: Analysing Data\n"
   ]
  },
  {
   "cell_type": "markdown",
   "id": "37a058f3-d400-4856-a8b0-d5edef1b7729",
   "metadata": {},
   "source": [
    "# Day 4: Manipulating Data\n"
   ]
  },
  {
   "cell_type": "markdown",
   "id": "b49d5696-dce8-49da-a489-2cf6e03678d2",
   "metadata": {},
   "source": [
    "# Day 5: Working with Time Series"
   ]
  },
  {
   "cell_type": "markdown",
   "id": "0a390bfe-0863-402d-bd0d-44577a2eb6e3",
   "metadata": {},
   "source": [
    "# Day 6: Working with Text Data\n"
   ]
  },
  {
   "cell_type": "markdown",
   "id": "48e0b08d-94e0-431e-967b-945b11a1e612",
   "metadata": {},
   "source": [
    "# Day 7: Working with Categorical Data\n"
   ]
  },
  {
   "cell_type": "code",
   "execution_count": null,
   "id": "fcd1c85a-6db2-4f72-aad7-2e34a4be692a",
   "metadata": {},
   "outputs": [],
   "source": []
  }
 ],
 "metadata": {
  "kernelspec": {
   "display_name": "Python 3 (ipykernel)",
   "language": "python",
   "name": "python3"
  },
  "language_info": {
   "codemirror_mode": {
    "name": "ipython",
    "version": 3
   },
   "file_extension": ".py",
   "mimetype": "text/x-python",
   "name": "python",
   "nbconvert_exporter": "python",
   "pygments_lexer": "ipython3",
   "version": "3.12.7"
  }
 },
 "nbformat": 4,
 "nbformat_minor": 5
}
